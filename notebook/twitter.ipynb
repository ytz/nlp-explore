{
 "cells": [
  {
   "cell_type": "code",
   "execution_count": 6,
   "id": "5de5307b-be94-490a-83f1-025d64e0a2f8",
   "metadata": {},
   "outputs": [],
   "source": [
    "import tweepy\n",
    "import yaml\n",
    "\n",
    "with open('config.yml', \"r\") as stream:\n",
    "    try:\n",
    "        cf = yaml.safe_load(stream)\n",
    "    except yaml.YAMLError as exc:\n",
    "        print(exc)\n",
    "\n",
    "\n",
    "auth = tweepy.OAuth1UserHandler(\n",
    "    cf['twitter_key'], \n",
    "    cf['twitter_secret'], \n",
    "    cf['twitter_access_key'], \n",
    "    cf['twitter_access_secret']\n",
    ")"
   ]
  },
  {
   "cell_type": "code",
   "execution_count": 7,
   "id": "58df82c1-db8a-47b2-9089-2a957515bb2b",
   "metadata": {},
   "outputs": [
    {
     "name": "stdout",
     "output_type": "stream",
     "text": [
      "What's my place in the world population and how long will I live?\n",
      "L: https://t.co/SP4ZvFkbZZ\n",
      "C: https://t.co/Ts7U6iUEmN\n",
      "Philippine central bank says keeping close watch on risks to inflation outlook https://t.co/EMyBeVLCx1 https://t.co/l86xvxzRy2\n",
      "If you will solve problems until you’re blocked, you’re valuable.\n",
      "\n",
      "If you will solve problems until you’re blocked,… https://t.co/43HOx8bZ6H\n",
      "RT @MarchMadnessMBB: WHAT A GAME! 🍀\n",
      "\n",
      "Notre Dame SURVIVES in 2OT and takes down Rutgers 89-87! #MarchMadness https://t.co/812HQRwW1P\n",
      "RT @MarchMadnessMBB: FIRST TIME FEELING FOR WRIGHT STATE! 👏\n",
      "\n",
      "The Raiders pick up their first #MarchMadness victory in school history after…\n",
      "RT @MarchMadnessMBB: NOTRE DAME WINS IT IN DOUBLE OT!\n",
      "\n",
      "THE LUCK OF THE IRISH ON ST. PATRICK'S DAY 🍀\n",
      "\n",
      "@NDmbb #MarchMadness https://t.co/BmeI…\n",
      "RT @MarchMadnessMBB: .@NDmbb with the clutch bucket to give them the lead 🔥 #MarchMadness https://t.co/QlAdgW0FAc\n",
      "RT @MarchMadnessMBB: THIS. SEQUENCE! 🔥\n",
      "\n",
      "We’re heading to DOUBLE OT in Dayton. #MarchMadness\n",
      "\n",
      "@NDmbb @RutgersMBB https://t.co/smN70n9BQ7\n",
      "RT @MarchMadnessMBB: NOTRE DAME STEALS THE INBOUND AND RETAKES THE LEAD! WHAT IS HAPPENING!? 🤯\n",
      "\n",
      "@NDmbb #MarchMadness https://t.co/GUQL1STbgi\n",
      "RT @MarchMadnessMBB: RON HARPER JR ARE YOU SERIOUS! 😱\n",
      "\n",
      "@RutgersMBB retakes the lead! #MarchMadness https://t.co/t5R6lZsGwc\n",
      "RT @MarchMadnessMBB: We're heading to overtime! 👀 \n",
      "\n",
      "@NDmbb @RutgersMBB #MarchMadness https://t.co/7GtvaugZAw\n",
      "RT @MarchMadnessMBB: MASSIVE three to tie the game 🔥 \n",
      "\n",
      "#MarchMadness @RutgersMBB https://t.co/3xTkzDmQh9\n",
      "Spotify is planning to add blockchain technology and non-fungible tokens to its streaming service https://t.co/v4NB4m1Ola\n",
      "#RiderAlert R4 To UBC detour is now over. Service back to regular route.^sg\n",
      "Japan's Eneos shuts Sendai, Chiba refineries after quake https://t.co/zbEwGekQmh https://t.co/kl4RtSDPoW\n",
      "RT @NCCGroupInfosec: We’re proud to announce the release of version 5.11.0 of our open-source, multi-cloud auditing tool ScoutSuite (availa…\n",
      "Liverpool, Villarreal, Chelsea (both men's and women's teams) and even a Borussia Dortmund player. BBC Football's c… https://t.co/HFFezw9z6s\n",
      "Secure the care you need in the event of long-term disability https://t.co/uVG4S0C9Am https://t.co/eJI2xICd1j\n",
      "\"Never believe that anything is obvious until you write a proof of it.\" https://t.co/j015WunRmI\n"
     ]
    }
   ],
   "source": [
    "api = tweepy.API(auth)\n",
    "\n",
    "public_tweets = api.home_timeline()\n",
    "for tweet in public_tweets:\n",
    "    print(tweet.text)"
   ]
  },
  {
   "cell_type": "code",
   "execution_count": null,
   "id": "4b279bb3-5b6d-4886-a4b5-f05a8e1b883b",
   "metadata": {},
   "outputs": [],
   "source": []
  }
 ],
 "metadata": {
  "kernelspec": {
   "display_name": "Python [conda env:nlp-explore]",
   "language": "python",
   "name": "conda-env-nlp-explore-py"
  },
  "language_info": {
   "codemirror_mode": {
    "name": "ipython",
    "version": 3
   },
   "file_extension": ".py",
   "mimetype": "text/x-python",
   "name": "python",
   "nbconvert_exporter": "python",
   "pygments_lexer": "ipython3",
   "version": "3.10.2"
  }
 },
 "nbformat": 4,
 "nbformat_minor": 5
}
