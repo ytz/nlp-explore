{
 "cells": [
  {
   "cell_type": "code",
   "execution_count": 1,
   "metadata": {},
   "outputs": [],
   "source": [
    "import praw\n",
    "import os\n",
    "import yaml"
   ]
  },
  {
   "cell_type": "code",
   "execution_count": 5,
   "metadata": {},
   "outputs": [],
   "source": [
    "with open('config.yml', \"r\") as stream:\n",
    "    try:\n",
    "        cf = yaml.safe_load(stream)\n",
    "    except yaml.YAMLError as exc:\n",
    "        print(exc)\n"
   ]
  },
  {
   "cell_type": "code",
   "execution_count": 9,
   "metadata": {},
   "outputs": [],
   "source": [
    "# create a reddit connection\n",
    "reddit = praw.Reddit(\n",
    "    client_id=cf['reddit_client_id'],  \n",
    "    client_secret=cf['reddit_secret_key'], \n",
    "    user_agent=cf['reddit_user_agent']\n",
    ")"
   ]
  }
 ],
 "metadata": {
  "interpreter": {
   "hash": "88167ad7c88de4d823b10dc4df4887ee02c1f4ce02650f2f4997a21f4616c7eb"
  },
  "kernelspec": {
   "display_name": "Python 3.10.2 ('nlp-explore')",
   "language": "python",
   "name": "python3102jvsc74a57bd088167ad7c88de4d823b10dc4df4887ee02c1f4ce02650f2f4997a21f4616c7eb"
  },
  "language_info": {
   "codemirror_mode": {
    "name": "ipython",
    "version": 3
   },
   "file_extension": ".py",
   "mimetype": "text/x-python",
   "name": "python",
   "nbconvert_exporter": "python",
   "pygments_lexer": "ipython3",
   "version": "3.10.2"
  }
 },
 "nbformat": 4,
 "nbformat_minor": 4
}
